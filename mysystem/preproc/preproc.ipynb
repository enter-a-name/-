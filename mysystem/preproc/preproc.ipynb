{
 "cells": [
  {
   "cell_type": "markdown",
   "metadata": {},
   "source": [
    "本文件用于对外部数据进行预处理，得到风格因子的收益和行业收益数据"
   ]
  },
  {
   "cell_type": "code",
   "execution_count": null,
   "metadata": {},
   "outputs": [],
   "source": [
    "from sklearn.linear_model import LinearRegression\n",
    "import os\n",
    "import pandas as pd\n",
    "from mysystem.backtest import internal_data_loader\n",
    "\n",
    "pctdf,data = internal_data_loader.load_processed_prices()"
   ]
  },
  {
   "cell_type": "markdown",
   "metadata": {},
   "source": [
    "由于外部数据过大，超过作业要求，因此没有附在文件中，只将处理好的结果放在newdata文件夹"
   ]
  },
  {
   "cell_type": "code",
   "execution_count": null,
   "metadata": {},
   "outputs": [],
   "source": [
    "d = pd.read_feather('./daily_risk_byday/20200103.ftr')\n",
    "def f(x):\n",
    "    if x[-1] == 'G':\n",
    "        return x[:-4] + 'SH'\n",
    "    else:\n",
    "        return x[:-4] + 'SZ'\n",
    "d['order_book_id'] = d['order_book_id'].apply(f)\n",
    "names = d.columns[2:]\n",
    "names"
   ]
  },
  {
   "cell_type": "code",
   "execution_count": null,
   "metadata": {},
   "outputs": [],
   "source": [
    "output = pd.DataFrame(columns=names,index=os.listdir('./daily_risk_byday/'))\n",
    "\n",
    "for i in os.listdir('./daily_risk_byday/'):\n",
    "    \n",
    "    try:\n",
    "        d = pd.read_feather('./daily_risk_byday/'+i)\n",
    "        def f(x):\n",
    "            if x[-1] == 'G':\n",
    "                return x[:-4] + 'SH'\n",
    "            else:\n",
    "                return x[:-4] + 'SZ'\n",
    "        d['order_book_id'] = d['order_book_id'].apply(f)\n",
    "        cur_pct = pctdf.loc[d['datetime'].astype('datetime64[ns]')[0],:]\n",
    "        \n",
    "        for j in names:\n",
    "            cur = d.set_index('order_book_id')\n",
    "            cur_ret = (cur[j] * cur_pct).dropna().sum() \n",
    "            \n",
    "            # 将两个 Series 合并为一个 DataFrame\n",
    "            data = pd.concat([cur[j], cur_pct], axis=1)\n",
    "            data.columns = ['X', 'Y']\n",
    "\n",
    "            # 删除含有缺失值的行\n",
    "            data.dropna(subset=['X', 'Y'], inplace=True)\n",
    "            \n",
    "            # 获取 X 和 Y 列作为训练数据\n",
    "            X = data['X'].values.reshape(-1, 1)\n",
    "            y = data['Y'].values\n",
    "\n",
    "            # 初始化线性回归模型\n",
    "            model = LinearRegression()\n",
    "\n",
    "            # 拟合模型\n",
    "            model.fit(X, y)\n",
    "\n",
    "            output.loc[i,j] = model.coef_[0]\n",
    "    except:\n",
    "        pass"
   ]
  },
  {
   "cell_type": "markdown",
   "metadata": {},
   "source": [
    "最终结果存储于daily_risk.csv"
   ]
  },
  {
   "cell_type": "code",
   "execution_count": null,
   "metadata": {},
   "outputs": [],
   "source": [
    "output.index = pd.Series(output.index).apply(lambda x:pd.to_datetime(x[:-4]))\n",
    "del output['comovement']\n",
    "\n",
    "output.dropna().to_csv('daily_risk.csv')"
   ]
  }
 ],
 "metadata": {
  "kernelspec": {
   "display_name": "Python 3.10.7 64-bit",
   "language": "python",
   "name": "python3"
  },
  "language_info": {
   "name": "python",
   "version": "3.10.7"
  },
  "orig_nbformat": 4,
  "vscode": {
   "interpreter": {
    "hash": "ec16c022adc6ff4202fd2446b8ef4477a6a6651486d68302b12f20c441a56539"
   }
  }
 },
 "nbformat": 4,
 "nbformat_minor": 2
}
